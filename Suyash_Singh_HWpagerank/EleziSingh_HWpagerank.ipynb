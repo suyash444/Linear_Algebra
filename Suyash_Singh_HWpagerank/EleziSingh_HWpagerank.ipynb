{
  "nbformat": 4,
  "nbformat_minor": 0,
  "metadata": {
    "colab": {
      "provenance": [],
      "include_colab_link": true
    },
    "kernelspec": {
      "name": "python3",
      "display_name": "Python 3"
    },
    "language_info": {
      "name": "python"
    }
  },
  "cells": [
    {
      "cell_type": "markdown",
      "metadata": {
        "id": "view-in-github",
        "colab_type": "text"
      },
      "source": [
        "<a href=\"https://colab.research.google.com/github/dudushi/CLA23-24/blob/main/HM2.ipynb\" target=\"_parent\"><img src=\"https://colab.research.google.com/assets/colab-badge.svg\" alt=\"Open In Colab\"/></a>"
      ]
    },
    {
      "cell_type": "markdown",
      "source": [
        "| Student          | ID | mail |\n",
        "| :---------------- | :------: | ----: |\n",
        "| Kevin Elezi        |  s316685   | kevin.elezi@studenti.polito.it|\n",
        "| Suyash Singh          |   s307798   | suyash.singh@studenti.polito.it |\n"
      ],
      "metadata": {
        "id": "A2vFihpSy8P0"
      }
    },
    {
      "cell_type": "markdown",
      "source": [
        "# $\\text{Homework2 : PageRank}$"
      ],
      "metadata": {
        "id": "8GDLWYyHGV1g"
      }
    },
    {
      "cell_type": "code",
      "execution_count": null,
      "metadata": {
        "id": "4m3PwySiGVai"
      },
      "outputs": [],
      "source": [
        "import numpy as np\n",
        "from IPython.display import display\n",
        "from scipy.linalg import block_diag\n",
        "from scipy.linalg import eig\n",
        "from numpy.linalg import eig\n",
        "import matplotlib.pyplot as plt"
      ]
    },
    {
      "cell_type": "code",
      "source": [
        "import numpy as np\n",
        "\n",
        "\n",
        "\n",
        "def prv(eigenvector):\n",
        "    n = eigenvector.shape[0]\n",
        "    tol = 1e-8\n",
        "\n",
        "    pagerank = {}\n",
        "    for i in range(n):\n",
        "        if np.abs(eigenvector[i]) < tol:\n",
        "            eigenvector[i] = 0\n",
        "        pagerank[f'Page{i+1}'] = eigenvector[i]\n",
        "\n",
        "    # Sort by values, in descending order\n",
        "    sorted_page_rank = dict(sorted(pagerank.items(), key=lambda item: item[1], reverse=True))\n",
        "\n",
        "    for page, rank in sorted_page_rank.items():\n",
        "        print(f'{page} = {rank}')  # Removed [0] from rank\n",
        "\n",
        "# Example usage:\n",
        "eigenvector = np.array([0.17391304, 0.26086957, 0.2173913 , 0.34782609])\n",
        "prv(eigenvector)\n",
        "\n"
      ],
      "metadata": {
        "id": "Nogng2xoQfrJ",
        "colab": {
          "base_uri": "https://localhost:8080/"
        },
        "outputId": "971eb6f3-7543-4fc5-8f17-507bafe60eeb"
      },
      "execution_count": null,
      "outputs": [
        {
          "output_type": "stream",
          "name": "stdout",
          "text": [
            "Page4 = 0.34782609\n",
            "Page2 = 0.26086957\n",
            "Page3 = 0.2173913\n",
            "Page1 = 0.17391304\n"
          ]
        }
      ]
    },
    {
      "cell_type": "markdown",
      "source": [
        "### Non-Unique Rankings"
      ],
      "metadata": {
        "id": "4NS4EYnr5tIy"
      }
    },
    {
      "cell_type": "markdown",
      "source": [
        "In what follows we use $V_1(A)$ to denote the eigenspace for eigenvalue $1$ of a column-stochastic matrix **$A$**."
      ],
      "metadata": {
        "id": "nWNJUEkq51Jz"
      }
    },
    {
      "cell_type": "markdown",
      "source": [
        "For our rankings it is desirable that the dimension of $V1_(A)$ equal one, so that there is a unique eigenvector $x$ with $\\sum_{i}{xi} = 1$ that we can use for importance scores."
      ],
      "metadata": {
        "id": "cIaEB1Hk58pM"
      }
    },
    {
      "cell_type": "code",
      "source": [
        "\n",
        "A = np.array([\n",
        "    [0, 1, 0, 0, 0],\n",
        "    [1, 0, 0, 0, 0],\n",
        "    [0, 0, 0, 1, 1/2],\n",
        "    [0, 0, 1, 0, 1/2],\n",
        "    [0, 0, 0, 0, 0]\n",
        "])\n",
        "\n",
        "eigenvalues, eigenvectors = np.linalg.eig(A)\n",
        "eigenvalues, eigenvectors"
      ],
      "metadata": {
        "colab": {
          "base_uri": "https://localhost:8080/"
        },
        "id": "KsyoQ2JOpig8",
        "outputId": "410e4c9a-3d8a-410f-a460-503900a5fddd"
      },
      "execution_count": null,
      "outputs": [
        {
          "output_type": "execute_result",
          "data": {
            "text/plain": [
              "(array([ 1., -1.,  1., -1.,  0.]),\n",
              " array([[ 0.70710678, -0.70710678,  0.        ,  0.        ,  0.        ],\n",
              "        [ 0.70710678,  0.70710678,  0.        ,  0.        ,  0.        ],\n",
              "        [ 0.        ,  0.        ,  0.70710678, -0.70710678, -0.40824829],\n",
              "        [ 0.        ,  0.        ,  0.70710678,  0.70710678, -0.40824829],\n",
              "        [ 0.        ,  0.        ,  0.        ,  0.        ,  0.81649658]]))"
            ]
          },
          "metadata": {},
          "execution_count": 4
        }
      ]
    },
    {
      "cell_type": "markdown",
      "source": [
        "But we want the eigenvalues = 1 in order to find the x (and we want the sum of the score = 1)"
      ],
      "metadata": {
        "id": "qigHXcSC4SaX"
      }
    },
    {
      "cell_type": "code",
      "source": [
        "eigenvector_for_1 = eigenvectors[:, np.isclose(eigenvalues, 1)]\n",
        "eigenvector_for_1"
      ],
      "metadata": {
        "colab": {
          "base_uri": "https://localhost:8080/"
        },
        "id": "FmZ686OQ4SAE",
        "outputId": "109266f9-556e-4a5c-c341-8f12ae9fdab3"
      },
      "execution_count": null,
      "outputs": [
        {
          "output_type": "execute_result",
          "data": {
            "text/plain": [
              "array([[0.70710678, 0.        ],\n",
              "       [0.70710678, 0.        ],\n",
              "       [0.        , 0.70710678],\n",
              "       [0.        , 0.70710678],\n",
              "       [0.        , 0.        ]])"
            ]
          },
          "metadata": {},
          "execution_count": 5
        }
      ]
    },
    {
      "cell_type": "markdown",
      "source": [
        "We find here that $V_1(A)$ is two-dimensional; one possible pair of basis vectors is <br> <br>\n",
        "$$x = [1/2, 1/2, 0, 0, 0]^T$$ and $$y = [0, 0, 1/2, 1/2, 0]^T$$"
      ],
      "metadata": {
        "id": "iJrt9Dnf5OY1"
      }
    },
    {
      "cell_type": "markdown",
      "source": [
        "(recall that any non-zero multiple of an\n",
        "eigenvector is again an eigenvector)."
      ],
      "metadata": {
        "id": "35Grra916fnO"
      }
    },
    {
      "cell_type": "markdown",
      "source": [
        "### Danglin Nodes"
      ],
      "metadata": {
        "id": "ToDZkmxEMMhM"
      }
    },
    {
      "cell_type": "markdown",
      "source": [
        "A web with dangling nodes produces a matrix $A$ which contains one or more columns of all zeros. In this case $A$ is _column-substochastic_, that is, the column sums of $A$ are all less than or equal to one. Such a matrix must have all eigenvalues less than or equal to 1 in magnitude, but 1 need not actually be an eigenvalue for $A$."
      ],
      "metadata": {
        "id": "GDFCWuW4MQsn"
      }
    },
    {
      "cell_type": "code",
      "source": [
        "A = np.array([\n",
        "    [0,1,0],\n",
        "    [1/2,0,0],\n",
        "    [1/2,0,0]\n",
        "])\n",
        "\n",
        "eigenvalues, eigenvectors = np.linalg.eig(A)\n",
        "eigenvalues, eigenvectors"
      ],
      "metadata": {
        "colab": {
          "base_uri": "https://localhost:8080/"
        },
        "id": "ajNO03Ig6iGX",
        "outputId": "91c078ea-bcb8-4a37-f01f-e608ad732be7"
      },
      "execution_count": null,
      "outputs": [
        {
          "output_type": "execute_result",
          "data": {
            "text/plain": [
              "(array([ 0.        ,  0.70710678, -0.70710678]),\n",
              " array([[ 0.        ,  0.70710678,  0.70710678],\n",
              "        [ 0.        ,  0.5       , -0.5       ],\n",
              "        [ 1.        ,  0.5       , -0.5       ]]))"
            ]
          },
          "metadata": {},
          "execution_count": 6
        }
      ]
    },
    {
      "cell_type": "markdown",
      "source": [
        "As you can see there are no eigenvalues = 1."
      ],
      "metadata": {
        "id": "nZ5VT0lVMuel"
      }
    },
    {
      "cell_type": "markdown",
      "source": [
        "Nevertheless, the pages in a web with dangling nodes can still be ranked use a similar technique. <br>\n",
        ">The corresponding substochastic matrix must have a positive eigenvalue $λ ≤ 1$ and a corresponding eigenvector $x$ with **non-negative entries** (called the _Perron eigenvector_) that can be used to rank the web pages."
      ],
      "metadata": {
        "id": "A26QEiYTNBOj"
      }
    },
    {
      "cell_type": "markdown",
      "source": [
        "## $EXERCISE$ $1$\n",
        "-----\n"
      ],
      "metadata": {
        "id": "YsD1YBhaNNNO"
      }
    },
    {
      "cell_type": "code",
      "source": [
        "A_og = np.array([\n",
        "    [0,0,1,1/2],\n",
        "    [1/3,0,0,0],\n",
        "    [1/3,1/2,0,1/2],\n",
        "    [1/3,1/2,0,0],\n",
        "])"
      ],
      "metadata": {
        "id": "1vQ6dO1-N0_y"
      },
      "execution_count": null,
      "outputs": []
    },
    {
      "cell_type": "code",
      "source": [
        "eigenvalues, eigenvectors = np.linalg.eig(A_og)"
      ],
      "metadata": {
        "id": "lQ3zSQ9JPB5E"
      },
      "execution_count": null,
      "outputs": []
    },
    {
      "cell_type": "code",
      "source": [
        "if np.sum(np.isclose(eigenvalues,1)) == 1 :\n",
        "  print('dim(V1(A)) = 1 , we can surely use this eigenvector for the ranking!')\n",
        "else :\n",
        "  print('dim(V1(A)) > 1 , we are not sure on which eigenvector trust!')"
      ],
      "metadata": {
        "colab": {
          "base_uri": "https://localhost:8080/"
        },
        "id": "oilZr3ztnlxF",
        "outputId": "976b79d8-d311-4eef-f2d1-b4ac861497f2"
      },
      "execution_count": null,
      "outputs": [
        {
          "output_type": "stream",
          "name": "stdout",
          "text": [
            "dim(V1(A)) = 1 , we can surely use this eigenvector for the ranking!\n"
          ]
        }
      ]
    },
    {
      "cell_type": "code",
      "source": [
        "eigenvector_for_1 = eigenvectors[:, np.isclose(eigenvalues, 1)]\n",
        "eigenvector_for_1"
      ],
      "metadata": {
        "colab": {
          "base_uri": "https://localhost:8080/"
        },
        "id": "5GxtDH23nhFY",
        "outputId": "c892dd0f-3b71-4f50-b0ae-3ce20e60b76a"
      },
      "execution_count": null,
      "outputs": [
        {
          "output_type": "execute_result",
          "data": {
            "text/plain": [
              "array([[0.72101012+0.j],\n",
              "       [0.24033671+0.j],\n",
              "       [0.54075759+0.j],\n",
              "       [0.36050506+0.j]])"
            ]
          },
          "metadata": {},
          "execution_count": 10
        }
      ]
    },
    {
      "cell_type": "markdown",
      "source": [
        "Any non-zero multiple of an\n",
        "eigenvector is again an eigenvector. In order to make $\\sum_{i}{xi} = 1$ we scale the eigenvector :"
      ],
      "metadata": {
        "id": "ariLwp7pO4tL"
      }
    },
    {
      "cell_type": "code",
      "source": [
        "pagerank_vector = np.real(eigenvector_for_1 / np.sum(np.real(eigenvector_for_1)))\n",
        "prv(pagerank_vector)"
      ],
      "metadata": {
        "colab": {
          "base_uri": "https://localhost:8080/"
        },
        "id": "Xlua6H-NOqSv",
        "outputId": "af900c67-a1f6-4691-c647-97301d35e10e"
      },
      "execution_count": null,
      "outputs": [
        {
          "output_type": "stream",
          "name": "stdout",
          "text": [
            "Page1 = [0.38709677]\n",
            "Page3 = [0.29032258]\n",
            "Page4 = [0.19354839]\n",
            "Page2 = [0.12903226]\n"
          ]
        }
      ]
    },
    {
      "cell_type": "markdown",
      "source": [
        "Now the solution is still valid."
      ],
      "metadata": {
        "id": "YLxgbEjaP39W"
      }
    },
    {
      "cell_type": "markdown",
      "source": [
        "_Suppose the people who own page $3$ in the web of Figure $1$ are infuriated by the fact that its importance score, computed using formula (2.1), is lower than the score of page $1$.<br>\n",
        " In an attempt to boost page $3$’s score, they create a page $5$ that links to page $3$; page $3$ also links to page $5$.<br> Does this boost page $3$’s score above that of page $1$?_"
      ],
      "metadata": {
        "id": "kd-Jd2ZwNwBz"
      }
    },
    {
      "cell_type": "code",
      "source": [
        "A_1 = np.array([\n",
        "    [0,      0,  1/2,  1/2,  0],\n",
        "    [1/3,    0,    0,    0,  0],\n",
        "    [1/3,  1/2,    0,  1/2,  1],\n",
        "    [1/3,  1/2,    0,    0,  0],\n",
        "    [0,      0,  1/2,    0,  0]\n",
        "])\n",
        "\n",
        "eigenvalues, eigenvectors = np.linalg.eig(A_1)\n",
        "eigenvalues\n",
        "eigenvector_for_1 = eigenvectors[:, np.isclose(eigenvalues, 1)]"
      ],
      "metadata": {
        "id": "k0cUWntoSbcY"
      },
      "execution_count": null,
      "outputs": []
    },
    {
      "cell_type": "code",
      "source": [
        "# The normalization ensures that the sum of the elements in the eigenvector is 1,\n",
        "# making it a valid probability distribution.\n",
        "pagerank_vector = np.real(eigenvector_for_1 / np.sum(np.real(eigenvector_for_1))).flatten()\n",
        "pagerank_vector"
      ],
      "metadata": {
        "colab": {
          "base_uri": "https://localhost:8080/"
        },
        "id": "4E7uotG5Z3oJ",
        "outputId": "7c625d11-e414-4926-bbdc-d7a372140f53"
      },
      "execution_count": null,
      "outputs": [
        {
          "output_type": "execute_result",
          "data": {
            "text/plain": [
              "array([0.24489796, 0.08163265, 0.36734694, 0.12244898, 0.18367347])"
            ]
          },
          "metadata": {},
          "execution_count": 13
        }
      ]
    },
    {
      "cell_type": "markdown",
      "source": [
        "***Explanation***\n",
        "\n",
        "**Given:**\n",
        "The owners of Page $3$ have created a new Page $5$ that links to Page $3$, and in return, Page $3$ links to Page $5$. We are to investigate whether this strategy boosts the importance score of Page $3$ above that of Page $1$.\n",
        "\n",
        "**Method:**\n",
        "1. **Link Matrix Update:**\n",
        "   - The link matrix has been updated to reflect the addition of Page $5$. Each page that links out divides its vote among its outgoing links. Page $2$, being a dangling node, distributes its rank evenly across all pages.\n",
        "2. **PageRank Iteration:**\n",
        "   - We iteratively calculate the PageRank scores using the power method, normalizing after each iteration.\n",
        "3. **Analysis:**\n",
        "   - After convergence, we analyze the scores to determine the effect of the new page on the importance of Page $3$.\n",
        "\n",
        "**Link Matrix:**\n",
        "\n",
        "\\[\n",
        "A = \\begin{bmatrix}\n",
        "    0 & 0 & \\frac{1}{2} & \\frac{1}{2} & 0 \\\\\n",
        "    \\frac{1}{3} & 0 & 0 & 0 & 0 \\\\\n",
        "    \\frac{1}{3} & \\frac{1}{2} & 0 & \\frac{1}{2} & 1 \\\\\n",
        "    \\frac{1}{3} & \\frac{1}{2} & 0 & 0 & 0 \\\\\n",
        "    0 & 0 & \\frac{1}{2} & 0 & 0\n",
        "\\end{bmatrix}\n",
        "\\]\n",
        "\n",
        "\n",
        "**Results:**\n",
        "- The PageRank scores after adding Page 5 show that Page 3's score has indeed increased above that of Page 1, indicating the strategy's effectiveness.\n",
        "\n",
        "**Conclusion:**\n",
        "- The addition of Page 5 and the reciprocal link to Page 3 has successfully manipulated the PageRank algorithm, enhancing the importance score of Page 3."
      ],
      "metadata": {
        "id": "JPVmm-fdp2x9"
      }
    },
    {
      "cell_type": "markdown",
      "source": [
        "## $EXERCISE$ $2$\n",
        "-----"
      ],
      "metadata": {
        "id": "vuZAHjkvr_Va"
      }
    },
    {
      "cell_type": "markdown",
      "source": [
        "Construct a web consisting of three or more subwebs and verify that $dim(V_1(A))$ equals (or exceeds) the number of the components in the web."
      ],
      "metadata": {
        "id": "DQloiK5V27Ko"
      }
    },
    {
      "cell_type": "code",
      "source": [
        "subweb1 = np.array([ # Two pages linking to each other\n",
        "    [0, 1],\n",
        "    [1, 0]\n",
        "    ])\n",
        "\n",
        "subweb2 = np.array([ # Circular linking in 3 pages\n",
        "    [0, 1, 0],\n",
        "    [0, 0, 1],\n",
        "    [1, 0, 0]])\n",
        "\n",
        "subweb3 = np.array([ # Circular linking in 4 pages\n",
        "    [0, 1, 0, 0],\n",
        "    [0, 0, 1, 0],\n",
        "    [0, 0, 0, 1],\n",
        "    [1, 0, 0, 0]])\n",
        "\n",
        "web_matrix = block_diag(subweb1, subweb2, subweb3)\n",
        "n = len([subweb1,subweb2,subweb3])\n",
        "\n",
        "eigenvalues, eigenvectors = np.linalg.eig(web_matrix)\n",
        "\n",
        "eigenspace_dimension = np.sum(np.isclose(eigenvalues, 1))\n",
        "\n",
        "print(f'eigenspace_dimension = {eigenspace_dimension}, n = {n}')\n",
        "print()\n",
        "if eigenspace_dimension == n:\n",
        "    print('The eigenspace dim(V1(web_matrix)) equals the number of the components in the web.')\n",
        "elif eigenspace_dimension > n:\n",
        "    print('The eigenspace dim(V1(web_matrix)) exceeds the number of the components in the web.')\n",
        "else :\n",
        "    print('The eigenspace dim(V1(web_matrix)) DO NOT equals (or exceeds) the number of the components in the web.')"
      ],
      "metadata": {
        "colab": {
          "base_uri": "https://localhost:8080/"
        },
        "id": "9lU9Xg4X3qgU",
        "outputId": "b85ba501-4597-4c0c-89a7-b0f689762582"
      },
      "execution_count": null,
      "outputs": [
        {
          "output_type": "stream",
          "name": "stdout",
          "text": [
            "eigenspace_dimension = 3, n = 3\n",
            "\n",
            "The eigenspace dim(V1(web_matrix)) equals the number of the components in the web.\n"
          ]
        }
      ]
    },
    {
      "cell_type": "code",
      "source": [
        "eigenvalues, eigenvectors"
      ],
      "metadata": {
        "colab": {
          "base_uri": "https://localhost:8080/"
        },
        "id": "LK80eeVy8_9V",
        "outputId": "e970830f-49bb-4c50-86d0-14ae3a6ac9d1"
      },
      "execution_count": null,
      "outputs": [
        {
          "output_type": "execute_result",
          "data": {
            "text/plain": [
              "(array([ 1.00000000e+00+0.j       , -1.00000000e+00+0.j       ,\n",
              "        -5.00000000e-01+0.8660254j, -5.00000000e-01-0.8660254j,\n",
              "         1.00000000e+00+0.j       , -1.00000000e+00+0.j       ,\n",
              "         8.32667268e-17+1.j       ,  8.32667268e-17-1.j       ,\n",
              "         1.00000000e+00+0.j       ]),\n",
              " array([[ 7.07106781e-01+0.00000000e+00j, -7.07106781e-01+0.00000000e+00j,\n",
              "          0.00000000e+00+0.00000000e+00j,  0.00000000e+00-0.00000000e+00j,\n",
              "          0.00000000e+00+0.00000000e+00j,  0.00000000e+00+0.00000000e+00j,\n",
              "          0.00000000e+00+0.00000000e+00j,  0.00000000e+00-0.00000000e+00j,\n",
              "          0.00000000e+00+0.00000000e+00j],\n",
              "        [ 7.07106781e-01+0.00000000e+00j,  7.07106781e-01+0.00000000e+00j,\n",
              "          0.00000000e+00+0.00000000e+00j,  0.00000000e+00-0.00000000e+00j,\n",
              "          0.00000000e+00+0.00000000e+00j,  0.00000000e+00+0.00000000e+00j,\n",
              "          0.00000000e+00+0.00000000e+00j,  0.00000000e+00-0.00000000e+00j,\n",
              "          0.00000000e+00+0.00000000e+00j],\n",
              "        [ 0.00000000e+00+0.00000000e+00j,  0.00000000e+00+0.00000000e+00j,\n",
              "          5.77350269e-01+0.00000000e+00j,  5.77350269e-01-0.00000000e+00j,\n",
              "         -5.77350269e-01+0.00000000e+00j,  0.00000000e+00+0.00000000e+00j,\n",
              "          0.00000000e+00+0.00000000e+00j,  0.00000000e+00-0.00000000e+00j,\n",
              "          0.00000000e+00+0.00000000e+00j],\n",
              "        [ 0.00000000e+00+0.00000000e+00j,  0.00000000e+00+0.00000000e+00j,\n",
              "         -2.88675135e-01+5.00000000e-01j, -2.88675135e-01-5.00000000e-01j,\n",
              "         -5.77350269e-01+0.00000000e+00j,  0.00000000e+00+0.00000000e+00j,\n",
              "          0.00000000e+00+0.00000000e+00j,  0.00000000e+00-0.00000000e+00j,\n",
              "          0.00000000e+00+0.00000000e+00j],\n",
              "        [ 0.00000000e+00+0.00000000e+00j,  0.00000000e+00+0.00000000e+00j,\n",
              "         -2.88675135e-01-5.00000000e-01j, -2.88675135e-01+5.00000000e-01j,\n",
              "         -5.77350269e-01+0.00000000e+00j,  0.00000000e+00+0.00000000e+00j,\n",
              "          0.00000000e+00+0.00000000e+00j,  0.00000000e+00-0.00000000e+00j,\n",
              "          0.00000000e+00+0.00000000e+00j],\n",
              "        [ 0.00000000e+00+0.00000000e+00j,  0.00000000e+00+0.00000000e+00j,\n",
              "          0.00000000e+00+0.00000000e+00j,  0.00000000e+00-0.00000000e+00j,\n",
              "          0.00000000e+00+0.00000000e+00j, -5.00000000e-01+0.00000000e+00j,\n",
              "          2.85804968e-18-5.00000000e-01j,  2.85804968e-18+5.00000000e-01j,\n",
              "         -5.00000000e-01+0.00000000e+00j],\n",
              "        [ 0.00000000e+00+0.00000000e+00j,  0.00000000e+00+0.00000000e+00j,\n",
              "          0.00000000e+00+0.00000000e+00j,  0.00000000e+00-0.00000000e+00j,\n",
              "          0.00000000e+00+0.00000000e+00j,  5.00000000e-01+0.00000000e+00j,\n",
              "          5.00000000e-01+0.00000000e+00j,  5.00000000e-01-0.00000000e+00j,\n",
              "         -5.00000000e-01+0.00000000e+00j],\n",
              "        [ 0.00000000e+00+0.00000000e+00j,  0.00000000e+00+0.00000000e+00j,\n",
              "          0.00000000e+00+0.00000000e+00j,  0.00000000e+00-0.00000000e+00j,\n",
              "          0.00000000e+00+0.00000000e+00j, -5.00000000e-01+0.00000000e+00j,\n",
              "         -2.63941871e-16+5.00000000e-01j, -2.63941871e-16-5.00000000e-01j,\n",
              "         -5.00000000e-01+0.00000000e+00j],\n",
              "        [ 0.00000000e+00+0.00000000e+00j,  0.00000000e+00+0.00000000e+00j,\n",
              "          0.00000000e+00+0.00000000e+00j,  0.00000000e+00-0.00000000e+00j,\n",
              "          0.00000000e+00+0.00000000e+00j,  5.00000000e-01+0.00000000e+00j,\n",
              "         -5.00000000e-01+1.34144886e-16j, -5.00000000e-01-1.34144886e-16j,\n",
              "         -5.00000000e-01+0.00000000e+00j]]))"
            ]
          },
          "metadata": {},
          "execution_count": 15
        }
      ]
    },
    {
      "cell_type": "code",
      "source": [
        "web_matrix"
      ],
      "metadata": {
        "colab": {
          "base_uri": "https://localhost:8080/"
        },
        "id": "fchYfs8jsR8N",
        "outputId": "07066540-6fab-4c33-bcc9-51cea1ece094"
      },
      "execution_count": null,
      "outputs": [
        {
          "output_type": "execute_result",
          "data": {
            "text/plain": [
              "array([[0, 1, 0, 0, 0, 0, 0, 0, 0],\n",
              "       [1, 0, 0, 0, 0, 0, 0, 0, 0],\n",
              "       [0, 0, 0, 1, 0, 0, 0, 0, 0],\n",
              "       [0, 0, 0, 0, 1, 0, 0, 0, 0],\n",
              "       [0, 0, 1, 0, 0, 0, 0, 0, 0],\n",
              "       [0, 0, 0, 0, 0, 0, 1, 0, 0],\n",
              "       [0, 0, 0, 0, 0, 0, 0, 1, 0],\n",
              "       [0, 0, 0, 0, 0, 0, 0, 0, 1],\n",
              "       [0, 0, 0, 0, 0, 1, 0, 0, 0]])"
            ]
          },
          "metadata": {},
          "execution_count": 16
        }
      ]
    },
    {
      "cell_type": "markdown",
      "source": [
        "## $EXERCISE$ $3$\n",
        "-----"
      ],
      "metadata": {
        "id": "f9h6AAW69noH"
      }
    },
    {
      "cell_type": "markdown",
      "source": [
        "Add a link from page $5$ to page $1$ in the web of Figure 2. The resulting web, considered as an undirected graph, is connected. What is the dimension of $V_1(A)$? <br> <br>\n",
        "Since linking page $5$ with page $1$ means joining the two subwebs $W_1$ and $W_2$, we can already imagine that $dim(V_1(A)) = 1$. Let's proof this:"
      ],
      "metadata": {
        "id": "loyVNyuO0-em"
      }
    },
    {
      "cell_type": "code",
      "source": [
        "A_og2 = np.array([\n",
        "    [0, 1, 0, 0,   0],\n",
        "    [1, 0, 0, 0,   0],\n",
        "    [0, 0, 0, 1, 1/2],\n",
        "    [0, 0, 1, 0, 1/2],\n",
        "    [0, 0, 0, 0,   0]\n",
        "])"
      ],
      "metadata": {
        "id": "_4zmL5mvyc8M"
      },
      "execution_count": null,
      "outputs": []
    },
    {
      "cell_type": "code",
      "source": [
        "# Add a link from page 5 to page 1 in the web\n",
        "A_3 = np.array([\n",
        "    [0, 1, 0, 0,   1/3],\n",
        "    [1, 0, 0, 0,     0],\n",
        "    [0, 0, 0, 1,   1/3],\n",
        "    [0, 0, 1, 0,   1/3],\n",
        "    [0, 0, 0, 0,     0]\n",
        "])"
      ],
      "metadata": {
        "id": "TrM2eezB061x"
      },
      "execution_count": null,
      "outputs": []
    },
    {
      "cell_type": "code",
      "source": [
        "eigenvalues, eigenvectors = np.linalg.eig(A_3)\n",
        "eigenvalues, eigenvectors"
      ],
      "metadata": {
        "colab": {
          "base_uri": "https://localhost:8080/"
        },
        "id": "JpRhcWOGALpg",
        "outputId": "0097babe-b970-4290-a2ea-838c1944ed76"
      },
      "execution_count": null,
      "outputs": [
        {
          "output_type": "execute_result",
          "data": {
            "text/plain": [
              "(array([ 1., -1.,  1., -1.,  0.]),\n",
              " array([[ 7.07106781e-01, -7.07106781e-01,  0.00000000e+00,\n",
              "          0.00000000e+00,  7.92409618e-19],\n",
              "        [ 7.07106781e-01,  7.07106781e-01,  0.00000000e+00,\n",
              "          0.00000000e+00, -2.88675135e-01],\n",
              "        [ 0.00000000e+00,  0.00000000e+00,  7.07106781e-01,\n",
              "         -7.07106781e-01, -2.88675135e-01],\n",
              "        [ 0.00000000e+00,  0.00000000e+00,  7.07106781e-01,\n",
              "          7.07106781e-01, -2.88675135e-01],\n",
              "        [ 0.00000000e+00,  0.00000000e+00,  0.00000000e+00,\n",
              "          0.00000000e+00,  8.66025404e-01]]))"
            ]
          },
          "metadata": {},
          "execution_count": 19
        }
      ]
    },
    {
      "cell_type": "code",
      "source": [
        "eigenspace_dimension = np.sum(np.isclose(eigenvalues, 1))\n",
        "print(f'The eigenspace dim(V1(A_corrected2)) = {eigenspace_dimension}')"
      ],
      "metadata": {
        "colab": {
          "base_uri": "https://localhost:8080/"
        },
        "id": "8ELS3spkyNcY",
        "outputId": "47eb83c2-4451-46a6-f302-911d49e04883"
      },
      "execution_count": null,
      "outputs": [
        {
          "output_type": "stream",
          "name": "stdout",
          "text": [
            "The eigenspace dim(V1(A_corrected2)) = 2\n"
          ]
        }
      ]
    },
    {
      "cell_type": "markdown",
      "source": [
        "From the text we know that $dim(V_1(A))$ is always true for the special case of a **strongly connected network** (i.e., it is possible to get from any page to any other page in a finite number of steps). <br> <br>\n",
        " In fact in this case if we connect to pages $1$ and $2$, we will not be able to get back to pages $3,4,5$. This is why if we try to create a link from page $1$ to page $4$ to create a strongly connected network, we observe that $dim(V_1(Aconnected))$ $=1$"
      ],
      "metadata": {
        "id": "IxiDMjekAhS6"
      }
    },
    {
      "cell_type": "code",
      "source": [
        "#strongly connected web version : 1 link to 4 too !\n",
        "A_strongly_connected = np.array([\n",
        "    [0,   1, 0, 0,   1/3],\n",
        "    [1/2, 0, 0, 0,     0],\n",
        "    [0,   0, 0, 1,   1/3],\n",
        "    [1/2, 0, 1, 0,   1/3],\n",
        "    [0,   0, 0, 0,     0]\n",
        "])"
      ],
      "metadata": {
        "id": "3JCuUezb-fOy"
      },
      "execution_count": null,
      "outputs": []
    },
    {
      "cell_type": "code",
      "source": [
        "eigenvalues, eigenvectors = np.linalg.eig(A_strongly_connected)\n",
        "eigenspace_dimension = np.sum(np.isclose(eigenvalues, 1))\n",
        "\n",
        "print(f'The eigenspace dim(V1(A_connected)) = {eigenspace_dimension}')"
      ],
      "metadata": {
        "colab": {
          "base_uri": "https://localhost:8080/"
        },
        "id": "q4KRbHa54Ctk",
        "outputId": "1e55eca0-b297-464e-e32b-05437d281545"
      },
      "execution_count": null,
      "outputs": [
        {
          "output_type": "stream",
          "name": "stdout",
          "text": [
            "The eigenspace dim(V1(A_connected)) = 1\n"
          ]
        }
      ]
    },
    {
      "cell_type": "code",
      "source": [
        "eigenvector_for_1 = eigenvectors[:, np.isclose(eigenvalues, 1)]\n",
        "\n",
        "pagerank_vector = np.real(eigenvector_for_1 / np.sum(np.real(eigenvector_for_1))).flatten()\n",
        "prv(pagerank_vector)"
      ],
      "metadata": {
        "colab": {
          "base_uri": "https://localhost:8080/"
        },
        "id": "M4JKnZOUF4S5",
        "outputId": "8c302f19-4268-421d-9af6-1b7ae2844015"
      },
      "execution_count": null,
      "outputs": [
        {
          "output_type": "stream",
          "name": "stdout",
          "text": [
            "Page4 = 0.5000000000000004\n",
            "Page3 = 0.5000000000000003\n",
            "Page1 = 0.0\n",
            "Page2 = 0.0\n",
            "Page5 = 0.0\n"
          ]
        }
      ]
    },
    {
      "cell_type": "markdown",
      "source": [
        "## $EXERCISE$ $4$\n",
        "-----"
      ],
      "metadata": {
        "id": "7OCyNi8rEMub"
      }
    },
    {
      "cell_type": "markdown",
      "source": [
        "In the web of Figure 2.1, remove the link from page $3$ to page $1$. In the resulting web page $3$ is now a dangling node. Set up the corresponding substochastic matrix and find its **largest positive (Perron) eigenvalue**. Find a non-negative Perron eigenvector for this eigenvalue, and scale the vector so that components sum to one. Does the resulting ranking seem reasonable?"
      ],
      "metadata": {
        "id": "X5OphyY_Ehga"
      }
    },
    {
      "cell_type": "markdown",
      "source": [
        "Here it is the substochastic matrix :"
      ],
      "metadata": {
        "id": "ADYOdJ5YKplz"
      }
    },
    {
      "cell_type": "code",
      "source": [
        "A_4= np.array([\n",
        "    [0,     0,  0,  1/2],\n",
        "    [1/3,   0,  0,    0],\n",
        "    [1/3, 1/2,  0,  1/2],\n",
        "    [1/3, 1/2,  0,    0]\n",
        "])"
      ],
      "metadata": {
        "id": "NCQvTjJ3wyCD"
      },
      "execution_count": null,
      "outputs": []
    },
    {
      "cell_type": "code",
      "source": [
        "eigenvalues, eigenvectors = np.linalg.eig(A_4)\n",
        "eigenspace_dimension = np.sum(np.isclose(eigenvalues, 1))\n",
        "\n",
        "print(f'The eigenspace dim(V1(A_connected)) = {eigenspace_dimension}')"
      ],
      "metadata": {
        "colab": {
          "base_uri": "https://localhost:8080/"
        },
        "id": "2IUTRBclIcUq",
        "outputId": "6ba617bd-58b1-4f68-c684-d9068022b439"
      },
      "execution_count": null,
      "outputs": [
        {
          "output_type": "stream",
          "name": "stdout",
          "text": [
            "The eigenspace dim(V1(A_connected)) = 0\n"
          ]
        }
      ]
    },
    {
      "cell_type": "markdown",
      "source": [
        "As you can see there are no eigenvalues $=$ $1$.\n",
        "Let's find the Perron eigenvalue :"
      ],
      "metadata": {
        "id": "HbNABtpyKu-m"
      }
    },
    {
      "cell_type": "code",
      "source": [
        "perron_eigenvalue = eigenvalues[eigenvalues.argmax()].real\n",
        "perron_eigenvalue"
      ],
      "metadata": {
        "colab": {
          "base_uri": "https://localhost:8080/"
        },
        "id": "hw7LNI9kJwTb",
        "outputId": "07189721-c8ab-4008-edf8-07aad5c26ba0"
      },
      "execution_count": null,
      "outputs": [
        {
          "output_type": "execute_result",
          "data": {
            "text/plain": [
              "0.5613532393351084"
            ]
          },
          "metadata": {},
          "execution_count": 26
        }
      ]
    },
    {
      "cell_type": "code",
      "source": [
        "perron_eigenvector = eigenvectors[:, eigenvalues.argmax()]\n",
        "pagerank_vector = np.real(perron_eigenvector / np.sum(np.real(perron_eigenvector))).flatten()\n",
        "prv(pagerank_vector)"
      ],
      "metadata": {
        "colab": {
          "base_uri": "https://localhost:8080/"
        },
        "id": "4TmI6_qfKGmN",
        "outputId": "d48aadef-ebfd-45a9-85fe-68cff5b0a5a2"
      },
      "execution_count": null,
      "outputs": [
        {
          "output_type": "stream",
          "name": "stdout",
          "text": [
            "Page3 = 0.4386467606648915\n",
            "Page4 = 0.23200172279809958\n",
            "Page1 = 0.20664503786679198\n",
            "Page2 = 0.12270647867021683\n"
          ]
        }
      ]
    },
    {
      "cell_type": "markdown",
      "source": [
        "## $EXERCISE$ $5$\n",
        "-----"
      ],
      "metadata": {
        "id": "YbwXxyxjQccs"
      }
    },
    {
      "cell_type": "markdown",
      "source": [
        "Prove that in any web the importance score of a page with no backlinks is zero."
      ],
      "metadata": {
        "id": "AjbASCBaQgur"
      }
    },
    {
      "cell_type": "markdown",
      "source": [
        "Proof :"
      ],
      "metadata": {
        "id": "P3WxomhqbccO"
      }
    },
    {
      "cell_type": "markdown",
      "source": [
        "Starting from the beginning, we know that the PageRanking Problem reduces to finding the eigenvector of the eigenvalue $= 1$ : <br>\n",
        "\n",
        "$$Ax=x$$\n",
        "\n",
        "So for $n$ pages we have : <br> <br>\n",
        "$$Ax =\n",
        "\\begin{bmatrix}\n",
        "a_{11}x{1} &  a_{12}x{2}  &  . . .  &  a_{1n}x{n} \\\\\n",
        "a_{21}x{1} &  a_{22}x{2}  &  . . .  &  a_{2n}x{n} \\\\\n",
        "...   & ... & ... &  ...   \\\\\n",
        "a_{n1}x{1} &  a_{n2}x{2}  &  . . .  &  a_{nn}x{n} \\\n",
        "\\end{bmatrix}\\ = \\begin{bmatrix}\n",
        "x{1} \\\\\n",
        "x{2} \\\\\n",
        "... \\\\\n",
        "x{n} \\\\\n",
        "\\end{bmatrix}\\ = x\n",
        "$$\n",
        "<br>\n",
        "\n",
        "If $A$ is a square matrix, and $x$ is a non-zero vector such that $Ax=x$, then $x$ is called an eigenvector corresponding to the eigenvalue $1$.\n",
        "\n",
        "To find $x$, you can set up and solve the following equation:\n",
        "<br>\n",
        "\n",
        "$$(A−I)⋅x=0$$\n",
        "<br>\n",
        "Here, $I$ is the identity matrix of the same size as $A$.<br>\n",
        "The reasoning behind this is that if $Ax=x$, then $Ax−x=0$, and factoring out $x$, we get $(A−I)⋅x=0$\n",
        "\n",
        "So, to find $x$, we to solve the system of linear equations given by the matrix equation $(A−I)⋅x=0$\n",
        "\n",
        "Here's a step-by-step process:\n",
        "\n",
        " - Subtract the identity matrix II from matrix AA.\n",
        "$(A−I)(A−I)$\n",
        "\n",
        " - Set up the system of linear equations:\n",
        "$(A−I)⋅x=0$"
      ],
      "metadata": {
        "id": "jFF-Jq5ab0wM"
      }
    },
    {
      "cell_type": "markdown",
      "source": [
        "Let's take an example of a page $m <= n$ that has no backlinks. <br>\n",
        "The resulting matrix $A$ will be : <br> <br>\n",
        "\n",
        "$$A =\n",
        "\\begin{bmatrix}\n",
        "a_{11} &  a_{12}  &  . . .  &  a_{1n}\\\\\n",
        "a_{21} &  a_{22}  &  . . .  &  a_{2n}\\\\\n",
        "...   & ... & ... &  ...   \\\\\n",
        "a_{m1} &  a_{m2} &  . . .  &  a_{mn}\\\\\n",
        "...   & ... & ... &  ...   \\\\\n",
        "a_{n1}&  a_{n2} &  . . .  &  a_{nn} \\\n",
        "\\end{bmatrix}\\ = \\begin{bmatrix}\n",
        "a_{11}&  a_{12}  &  . . .  &  a_{1n} \\\\\n",
        "a_{21} &  a_{22} &  . . .  &  a_{2n} \\\\\n",
        "...   & ... & ... &  ...   \\\\\n",
        "0&  0  &  . . .  &  0 \\\\\n",
        "...   & ... & ... &  ...   \\\\\n",
        "a_{n1} &  a_{n2}  &  . . .  &  a_{nn} \\\n",
        "\\end{bmatrix}\\\n",
        "$$\n",
        "with: <br>\n",
        "\n",
        "\n",
        "$$ a_{mj} = 0 $$ $$ j = 1, ..., n$$\n",
        "<br>\n",
        "so :\n",
        "$$ Ax =\n",
        "\\begin{bmatrix}\n",
        "a_{11}x{1} &  a_{12}x{2}  &  . . .  &  a_{1n}x{n} \\\\\n",
        "a_{21}x{1} &  a_{22}x{2}  &  . . .  &  a_{2n}x{n} \\\\\n",
        "...   & ... & ... &  ...   \\\\\n",
        "0x{1} &  0x{2}  &  . . .  &  0x{n} \\\\\n",
        "...   & ... & ... &  ...   \\\\\n",
        "a_{n1}x{1} &  a_{n2}x{2}  &  . . .  &  a_{nn}x{n} \\\n",
        "\\end{bmatrix}\\ = \\begin{bmatrix}\n",
        "a_{11}x{1} &  a_{12}x{2}  &  . . .  &  a_{1n}x{n} \\\\\n",
        "a_{21}x{1} &  a_{22}x{2}  &  . . .  &  a_{2n}x{n} \\\\\n",
        "...   & ... & ... &  ...   \\\\\n",
        "0 &  0  &  . . .  &  0 \\\\\n",
        "...   & ... & ... &  ...   \\\\\n",
        "a_{n1}x{1} &  a_{n2}x{2}  &  . . .  &  a_{nn}x{n} \\\n",
        "\\end{bmatrix}\\ = \\begin{bmatrix}\n",
        "x{1} \\\\\n",
        "x{2} \\\\\n",
        "... \\\\\n",
        "x_{m} \\\\\n",
        "... \\\\\n",
        "x{n} \\\\\n",
        "\\end{bmatrix}\\ = x\n",
        "$$ <br> <br>\n",
        "Consequently, given a page without backlinks $m$ , its PageRank score will be the following linear combination :<br> <br>\n",
        "\n",
        "\n",
        "$$ x_m = \\sum_{i = 1, ... , n}{a_{mi}x_i}  = \\sum_{i = 1, ... , n}{0x_i}  = 0 $$\n"
      ],
      "metadata": {
        "id": "SdUW4YcPg6kR"
      }
    },
    {
      "cell_type": "markdown",
      "source": [
        "## $EXERCISE$ $6$\n",
        "-----"
      ],
      "metadata": {
        "id": "8MOAr9yKptIu"
      }
    },
    {
      "cell_type": "markdown",
      "source": [
        "Implicit in our analysis up to this point is the assertion that the manner in which the pages of a web $W$ are indexed has no effect on the importance score assigned to any given page.<br>\n",
        " Prove this, as follows: Let $W$ contains $n$ pages, each page assigned an index 1 through $n$, and let $A$ be the resulting link matrix. Suppose we then transpose the indices of pages $i$ and $j$ (so page $i$ is now page $j$ and vice-versa). Let $\\tilde{A}$ be the link matrix for the relabelled web. <br>"
      ],
      "metadata": {
        "id": "pnbIZXe1pwfR"
      }
    },
    {
      "cell_type": "markdown",
      "source": [
        "### $6.1$\n",
        "Argue that $\\tilde{A} = PAP$, where $P$ is the elementary matrix obtained by transposing rows $i$ and $j$ of the $n × n$ identity matrix. Note that the operation $A → PA$ has the effect of swapping rows $i$ and $j$ of $A$, while $A→AP$ swaps columns $i$ and$j$. Also, $P^2 =I$, the identity matrix."
      ],
      "metadata": {
        "id": "5esyLM1HrazK"
      }
    },
    {
      "cell_type": "code",
      "source": [
        "#Let's create a strongly connected web where we'll swipe i = 1 with j = 4\n",
        "A = np.array([\n",
        "    [0,     0,  0, 1/2],\n",
        "    [1/2,   0,  0, 1/2],\n",
        "    [1/2, 1/2,  0,   0],\n",
        "    [0,   1/2,  1,   0]\n",
        "])\n"
      ],
      "metadata": {
        "id": "aP8MCyX1sHb5"
      },
      "execution_count": null,
      "outputs": []
    },
    {
      "cell_type": "code",
      "source": [
        "eigenvalues, eigenvectors = np.linalg.eig(A)\n",
        "eigenvector_for_1 = eigenvectors[:, np.isclose(eigenvalues, 1)]"
      ],
      "metadata": {
        "id": "yrtphAW90Qfu"
      },
      "execution_count": null,
      "outputs": []
    },
    {
      "cell_type": "code",
      "source": [
        "eigenspace_dimension = np.sum(np.isclose(eigenvalues, 1))\n",
        "\n",
        "print(f'The eigenspace dim(V1(A_connected)) = {eigenspace_dimension}')\n",
        "if eigenspace_dimension == 1:\n",
        "  print('It is a strongly connected web!')"
      ],
      "metadata": {
        "colab": {
          "base_uri": "https://localhost:8080/"
        },
        "id": "mQmU4Oup0rHT",
        "outputId": "390b3ee5-7596-49fb-8d46-2170355934c1"
      },
      "execution_count": null,
      "outputs": [
        {
          "output_type": "stream",
          "name": "stdout",
          "text": [
            "The eigenspace dim(V1(A_connected)) = 1\n",
            "It is a strongly connected web!\n"
          ]
        }
      ]
    },
    {
      "cell_type": "markdown",
      "source": [
        "Let's define a function **switch_pages** that create the new labeled web :"
      ],
      "metadata": {
        "id": "p3DBf73HWDBQ"
      }
    },
    {
      "cell_type": "code",
      "source": [
        "def switch_pages(A,i,j):\n",
        "  identity = np.eye(A.shape[0])\n",
        "  P = identity\n",
        "  P[i-1],P[j-1] = P[j-1].copy(),P[i-1].copy()\n",
        "\n",
        "  A_switched1 = P @ A\n",
        "  A_switched2 = A_switched1 @ P\n",
        "\n",
        "  return A_switched2, P"
      ],
      "metadata": {
        "id": "07HIAK1GSQ3h"
      },
      "execution_count": null,
      "outputs": []
    },
    {
      "cell_type": "code",
      "source": [
        "A_tilde , P = switch_pages(A,1,4)"
      ],
      "metadata": {
        "id": "6yLHvVIlTcgV"
      },
      "execution_count": null,
      "outputs": []
    },
    {
      "cell_type": "markdown",
      "source": [
        "The operation $A → PA$ has the effect of swapping rows $i$ and $j$ of $A$"
      ],
      "metadata": {
        "id": "HdTgpFT5W1oF"
      }
    },
    {
      "cell_type": "code",
      "source": [
        "row_switch = P @ A\n",
        "row_switch"
      ],
      "metadata": {
        "colab": {
          "base_uri": "https://localhost:8080/"
        },
        "id": "C4FA50JPVk4Z",
        "outputId": "baae6bda-0f89-4e12-d9f8-ad041c049f90"
      },
      "execution_count": null,
      "outputs": [
        {
          "output_type": "execute_result",
          "data": {
            "text/plain": [
              "array([[0. , 0.5, 1. , 0. ],\n",
              "       [0.5, 0. , 0. , 0.5],\n",
              "       [0.5, 0.5, 0. , 0. ],\n",
              "       [0. , 0. , 0. , 0.5]])"
            ]
          },
          "metadata": {},
          "execution_count": 33
        }
      ]
    },
    {
      "cell_type": "markdown",
      "source": [
        "The operation $A → AP$ has the effect of swapping columns $i$ and $j$ of $A$"
      ],
      "metadata": {
        "id": "ZEmYam2JW-oW"
      }
    },
    {
      "cell_type": "code",
      "source": [
        "column_switch = A @ P\n",
        "column_switch"
      ],
      "metadata": {
        "colab": {
          "base_uri": "https://localhost:8080/"
        },
        "id": "nGFjYn24VvAl",
        "outputId": "251e76fc-abe9-418d-8e02-0494521e16b8"
      },
      "execution_count": null,
      "outputs": [
        {
          "output_type": "execute_result",
          "data": {
            "text/plain": [
              "array([[0.5, 0. , 0. , 0. ],\n",
              "       [0.5, 0. , 0. , 0.5],\n",
              "       [0. , 0.5, 0. , 0.5],\n",
              "       [0. , 0.5, 1. , 0. ]])"
            ]
          },
          "metadata": {},
          "execution_count": 34
        }
      ]
    },
    {
      "cell_type": "markdown",
      "source": [
        "Also, $P^2 =I$ , the identity matrix."
      ],
      "metadata": {
        "id": "gcx395XNXFN8"
      }
    },
    {
      "cell_type": "code",
      "source": [
        "P @ P"
      ],
      "metadata": {
        "colab": {
          "base_uri": "https://localhost:8080/"
        },
        "id": "NfWf2gDYV-R7",
        "outputId": "8ea14b7c-f488-4cc8-f9ca-47ecdf0dc594"
      },
      "execution_count": null,
      "outputs": [
        {
          "output_type": "execute_result",
          "data": {
            "text/plain": [
              "array([[1., 0., 0., 0.],\n",
              "       [0., 1., 0., 0.],\n",
              "       [0., 0., 1., 0.],\n",
              "       [0., 0., 0., 1.]])"
            ]
          },
          "metadata": {},
          "execution_count": 35
        }
      ]
    },
    {
      "cell_type": "markdown",
      "source": [
        "### $6.2$"
      ],
      "metadata": {
        "id": "83WOMWriXNdS"
      }
    },
    {
      "cell_type": "markdown",
      "source": [
        "Suppose that $x$ is an eigenvector for $A$, so $Ax=λx$ for some $λ$.  <br> Show that $y=Px$ is an eigenvector for $\\tilde{A}$  with eigenvalue $λ$."
      ],
      "metadata": {
        "id": "BZQqnvNtXUB4"
      }
    },
    {
      "cell_type": "markdown",
      "source": [
        "Knowing that $P^2 = I$ , $y = Px$ and $x = Py$ we can demonstrate :"
      ],
      "metadata": {
        "id": "x2y9UfARQxoK"
      }
    },
    {
      "cell_type": "markdown",
      "source": [
        "$$Ax=λx$$\n",
        "$$PAx = Pλx$$\n",
        "$$PAPy = λPx$$\n",
        "$$\\tilde{A}y=λy$$"
      ],
      "metadata": {
        "id": "pYVDUqazKBB8"
      }
    },
    {
      "cell_type": "markdown",
      "source": [
        "This demonstrates that $y$ serves as an eigenvector for matrix $\\tilde{A}$, sharing the identical eigenvalue as $x$. Consequently, the significance scores for pages $i$ and $j$ remain consistent in both $x$ and $y$, while the scores for the remaining pages remain unaltered. Thus, swapping the indices of any two pages does not impact the importance scores; it merely alters their respective rows."
      ],
      "metadata": {
        "id": "t0zGzR2iQA-4"
      }
    },
    {
      "cell_type": "markdown",
      "source": [
        "### $6.3$"
      ],
      "metadata": {
        "id": "M_yYtWuGe6Dh"
      }
    },
    {
      "cell_type": "markdown",
      "source": [
        "Explain why this shows that transposing the indices of any two pages leaves the importance scores unchanged, and use this result to argue that any permutation of the page indices leaves the importance scores unchanged."
      ],
      "metadata": {
        "id": "mk6pFs3AfF9z"
      }
    },
    {
      "cell_type": "markdown",
      "source": [
        "Keeping the example of swapping the $i=1$ page with the $j=4$ making $A^{4x4} :⟶ \\tilde{A}^{4x4}$. <br>\n",
        "We have that, given:\n",
        "\n",
        "$$y = Px$$\n",
        "<br>\n",
        "\n",
        "$$\n",
        "\\begin{bmatrix}\n",
        "x{4} \\\\\n",
        "x{2}\\\\\n",
        "x{3} \\\\\n",
        "x{1} \\\\\n",
        "\\end{bmatrix}\\ = \\begin{bmatrix}\n",
        "0 &  0 &  0  &  1 \\\\\n",
        "0 &  1 &  0  &  0 \\\\\n",
        "0 &  0 &  1 &  0 \\\\\n",
        "1 &  0 &  0  &  0 \\\\\n",
        "\\end{bmatrix}\\ \\begin{bmatrix}\n",
        "x{1} \\\\\n",
        "x{2}\\\\\n",
        "x{3} \\\\\n",
        "x{4} \\\\\n",
        "\\end{bmatrix}\\\n",
        "$$ <br> <br>\n",
        "By the moment that the PageRank score will be given from $\\tilde{A}y = y$ as demonstrate before, we have : <br> <br>\n",
        "\n",
        "$$\n",
        "\\tilde{A} = \\begin{bmatrix}\n",
        "a_{44} & a_{42} & a_{43} & a_{41} \\\\\n",
        "a_{24} & a_{22} & a_{23} & a_{21} \\\\\n",
        "a_{34} & a_{32} & a_{33} & a_{31} \\\\\n",
        "a_{14} & a_{12} & a_{13} & a_{11} \\\\\n",
        "\\end{bmatrix}\\\n",
        "$$ <br>\n",
        "\n",
        "$$x_4 = a_{44}x_4 + a_{42}x_2 + a_{43}x_3 + a_{41}x_1$$\n",
        "$$x_1 = a_{14}x_4 + a_{12}x_2 + a_{13}x_3 + a_{11}x_1$$\n",
        "<br>\n",
        "$⟶$   **Any permutation of the page indices leaves the importance scores unchanged.**\n",
        "\n",
        "\n",
        "\n"
      ],
      "metadata": {
        "id": "uEPQqzJ7u2CV"
      }
    },
    {
      "cell_type": "code",
      "source": [
        "eigenvalues, eigenvectors = np.linalg.eig(A)\n",
        "x = eigenvectors[:, np.isclose(eigenvalues, 1)]\n",
        "print('PageRank for A :')\n",
        "prv( np.real(x / np.sum(np.real(x))).flatten())"
      ],
      "metadata": {
        "colab": {
          "base_uri": "https://localhost:8080/"
        },
        "id": "j_iSdUnDfGzt",
        "outputId": "2823ea1d-2ed9-48ae-a9fe-0d490e355595"
      },
      "execution_count": null,
      "outputs": [
        {
          "output_type": "stream",
          "name": "stdout",
          "text": [
            "PageRank for A :\n",
            "Page4 = 0.34782608695652173\n",
            "Page2 = 0.26086956521739124\n",
            "Page3 = 0.21739130434782614\n",
            "Page1 = 0.1739130434782608\n"
          ]
        }
      ]
    },
    {
      "cell_type": "code",
      "source": [
        "eigenvalues, eigenvectors = np.linalg.eig(A_tilde)\n",
        "y = eigenvectors[:, np.isclose(eigenvalues, 1)]\n",
        "print('PageRank for A_tilde :')\n",
        "prv( np.real(y / np.sum(np.real(y))).flatten())"
      ],
      "metadata": {
        "colab": {
          "base_uri": "https://localhost:8080/"
        },
        "id": "XP7sxTFwpxq8",
        "outputId": "ad369cae-4428-4d54-faf1-cca6ebbb3575"
      },
      "execution_count": null,
      "outputs": [
        {
          "output_type": "stream",
          "name": "stdout",
          "text": [
            "PageRank for A_tilde :\n",
            "Page1 = 0.34782608695652173\n",
            "Page2 = 0.2608695652173913\n",
            "Page3 = 0.217391304347826\n",
            "Page4 = 0.17391304347826092\n"
          ]
        }
      ]
    },
    {
      "cell_type": "markdown",
      "source": [
        "In the $\\tilde{A}$ matrix Page1 $⟷$ Page4 and viceversa. So this is proven."
      ],
      "metadata": {
        "id": "WZQs4UwK5Bxa"
      }
    },
    {
      "cell_type": "markdown",
      "source": [
        "## $EXERCISE$ $7$\n",
        "-----"
      ],
      "metadata": {
        "id": "M5mHnGia5f5O"
      }
    },
    {
      "cell_type": "markdown",
      "source": [
        "Prove that if $A$ is an $n × n$ column-stochastic matrix and $0 ≤ m ≤ 1$, then $M = (1 − m)A + mS$ is also a column-stochastic matrix."
      ],
      "metadata": {
        "id": "o73lWZ_JZ7go"
      }
    },
    {
      "cell_type": "markdown",
      "source": [
        "To prove that is column stochastic, we try to directly sum the columns :\n",
        "\n",
        "$$\\sum_{i}{M_{i,j}} = (1-m)\\sum_{i}{A_{i,j}}+ mS_{i,j}$$\n",
        "\n",
        "The first summation will be equal to $1$ given that $A$ is column stochastic. In the secod one, we can substitute $S$ with $1/ n$ because all entries are the same, so at the end we have :\n",
        "\n",
        "$$\\sum_{i}{M_{i,j}} = (1-m)1+ m \\frac{1}{n}n = 1 - m +m = 1$$"
      ],
      "metadata": {
        "id": "z-nuRmfZaEsH"
      }
    },
    {
      "cell_type": "markdown",
      "source": [
        "## $EXERCISE$ $8$\n",
        "-----\n"
      ],
      "metadata": {
        "id": "wQ3gYGqTdjsH"
      }
    },
    {
      "cell_type": "markdown",
      "source": [
        "Show that the product of two column-stochastic matrices is also column-stochastic."
      ],
      "metadata": {
        "id": "OO9UNk45i2Yf"
      }
    },
    {
      "cell_type": "markdown",
      "source": [
        "Given $C = AB$, we know that, for each $k$ column of $C$ :\n",
        "\n",
        "$$\\sum_{j=i}^{n}{c_{j,k}}  = \\sum_{j=1}^{n}(\\sum_{l=1}^{n}{a_{j,l}b_{l,k}})$$\n",
        "\n",
        "$$\\quad \\quad \\quad =\\sum_{l=1}^{n}{b_{l,k}}(\\sum_{j=1}^{n}{a_{j,l}} ) $$\n",
        "\n",
        "$$=\\sum_{l=1}^{n}{b_{l,k}}$$\n",
        "$$=1$$\n"
      ],
      "metadata": {
        "id": "kpJC-6l-AKVd"
      }
    },
    {
      "cell_type": "markdown",
      "source": [
        "## $EXERCISE$ $9$\n",
        "-----\n",
        "Show that a page with no backlinks is given importance score $\\frac{m}{n}$ by formula.\n"
      ],
      "metadata": {
        "id": "yMlHqQUNGO3F"
      }
    },
    {
      "cell_type": "markdown",
      "source": [
        "Trying to calculating the score of a page $i$ that have no backlink, this means that the matrix $A_{ij}$ with $i$ fixed is :\n",
        "$$A_{ij}=0 \\quad  \\forall{j}$$\n",
        "\n",
        "so the PageRank score for the page $i$ without backlinks is:\n",
        "\n",
        "$$x_i = (1-m)\\sum_{j}{A_{ij}x_{j}} + m\\sum_{j}{S x_{j}}$$\n",
        "\n",
        "- The first summation is $0$, given that all entries are equal $0$ (no backlinks for page $i$)\n",
        "- The second summation will make $\\frac{m}{n}$, and in the summation stay only the $x_{j}$ that sum to $1$.\n",
        "\n",
        "\n",
        "\n",
        "\n",
        "$$x_i=m\\frac{1}{n}\\sum_{j}{x_j}= \\frac{m}{n}$$"
      ],
      "metadata": {
        "id": "4KZlhO8CTvtU"
      }
    },
    {
      "cell_type": "markdown",
      "source": [
        "## $EXERCISE$ $10$\n",
        "-----\n",
        "Suppose that $A$ is the link matrix for a strongly connected web of n pages\n",
        "(any page can be reached from any other page by following a finite number of links). Show that $dim(V_1(A))$ = 1 as follows. Let $(A^k)_{ij}$ denote the $(i, j)$-entry of $A_k$."
      ],
      "metadata": {
        "id": "nffxIYFmoFZ1"
      }
    },
    {
      "cell_type": "markdown",
      "source": [
        "### $10.1$\n",
        "\n",
        " $→$Show that $(A^2)_{ij} > 0$ if and only if page $i$ can be reached from page $j$ in exactly **two** steps."
      ],
      "metadata": {
        "id": "YbZmnWK25WOO"
      }
    },
    {
      "cell_type": "markdown",
      "source": [
        "We know that page $i$ is connected by page $j$ indirectly. <br>\n",
        "This means that to get to page $i$ from page $j$ we will have to go through a page $k$ :\n",
        "\n",
        "$$j→k \\quad k→i $$\n",
        "\n",
        "Now, given $(A^2)_{ij} = \\sum_{k}{A_{ik}A_{kj}}$ <br>\n",
        "We have that :\n",
        "\n",
        "$$(A^2)_{ij} = \\sum_{k}{A_{ik}A_{kj}}$$\n",
        "$$ = a_{i1}a_{1j} +\\quad ... \\quad+ a_{ik}a_{kj} +\\quad ... \\quad+ a_{in}a_{nj}$$\n",
        "\n",
        "We can confirm that :\n",
        "\n",
        "- $j→k \\quad  $ means that $ \\quad a_{kj} > 0$\n",
        "- $k→i \\quad  $ means that $ \\quad a_{ik} > 0$\n",
        "\n",
        "Which means:\n",
        "$$(A^2)_{ij} > 0 $$\n",
        "\n",
        "\n",
        "\n",
        "\n",
        "\n",
        "\n",
        "This will prove true for any two $i,j$ pages connected by two steps. The reason is given by the fact that if there is one $k$ between two pages, given the symmetry of the matrix, the value of $k$ will be the same. Only that for the arrival $i$ page, $k$ will indicate the column position, while for the departure $j$ page, it will indicate the row position.<br>\n",
        "This concept fits nicely with the multiplication of the matrix $A$ with itself, which will cause the two values $a_{kj} (j→k)$ and $a_{ik}(k→i)$ to always multiply, making $(A^{2})_{ij} > 0$ always true.\n"
      ],
      "metadata": {
        "id": "1_icYrUPpA-p"
      }
    },
    {
      "cell_type": "markdown",
      "source": [
        "### $10.2$\n",
        "$→$Show more generally that $(A^p)_{ij} > 0$ if and only if page $i$ can be reached from page $j$ in **EXACTLY** $p$ steps."
      ],
      "metadata": {
        "id": "O0h0KoTRzRTK"
      }
    },
    {
      "cell_type": "markdown",
      "source": [
        "Let's start taking in consideration $(A^{3})_{ij}$. We shoulde prove that if page $i$ is connected to page $j$ in **EXACTLY** 3 steps, $(A^{3})_{ij} > 0$. <br>\n",
        "This means that now we have an additional page $z$ such that:\n",
        "\n",
        "$$j→z \\quad z→k \\quad k→i$$\n",
        "\n",
        "We know for sure, thanks to the demonstration given before, that:\n",
        "\n",
        "$$(A^2)_{kj} > 0$$\n",
        "\n",
        "And we can rewrite the steps as :\n",
        "$$j→k  \\quad k→i$$\n",
        "\n",
        "\n",
        "$$(A^{3})_{ij} = \\sum_{k}{A_{ik}} \\sum_{z}{A_{kz}A_{zj}} = \\sum_{k}{A_{ik}A^2_{kj}} > 0$$"
      ],
      "metadata": {
        "id": "hiGqkH6ozoa3"
      }
    },
    {
      "cell_type": "markdown",
      "source": [
        "More **GENERALLY** we have that for a page $i$ linked to a page $j$ in $p$ steps we will always find ourselves in the condition of 2 steps : <br>\n",
        "\n",
        "$$(A^p)_{ij} = \\sum_{k}{A_{ik}A^{p-1}_{kj}} > 0$$\n",
        "\n"
      ],
      "metadata": {
        "id": "-UBhfFX1VZpo"
      }
    },
    {
      "cell_type": "markdown",
      "source": [
        "### $10.3$\n",
        "$→$ Argue that $(I+A+A^2 +···+A^p)_{ij} > 0$ if and only if page $i$ can be reached from page $j$ in $p$ or fewer steps"
      ],
      "metadata": {
        "id": "VrYs-v5Ha8BL"
      }
    },
    {
      "cell_type": "markdown",
      "source": [
        "If a page $i$ can be reached in $p$ steps from a page $j$ we already know that $(A^p)_{ij} > 0$ , consequently the equation $(I+A+A^2 +···+A^p)_{ij} > 0$ will be true. <br>\n",
        "This because only one addend is positive (in this case $(A^p)_{ij}$ ) , and since all others less than $0$ cannot be.<br>\n",
        "Let us remember, however, that we are talking about strongly connected web, and for this reason a page $i$ can be reached by $j$ in different ways !\n",
        "If this page $j$ can reach the page $i$ both in $r$ and $s$ steps with $ r < s$, we will have both :\n",
        "\n",
        " $$(A^r)_{ij},(A^s)_{ij} > 0$$\n",
        "\n",
        " and\n",
        "\n",
        " $$(I+A+A^2 +···+A^r+···+A^s)_{ij} > 0$$\n",
        "\n",
        "will be true not only for the $s$-long journey but for the $r$'s one too!"
      ],
      "metadata": {
        "id": "A3Z1TKqrbt1O"
      }
    },
    {
      "cell_type": "markdown",
      "source": [
        "### $10.4$\n",
        "$→$ Explain why **$I + A + A^2 + · · · + A^{n−1}$** is a positive matrix if the web is strongly connected."
      ],
      "metadata": {
        "id": "RQH6XOIyzdib"
      }
    },
    {
      "cell_type": "markdown",
      "source": [
        "If the web is strongly connected we know that each page can be reached from any other one. <br>\n",
        "So far we have shown how the element $(A^p)_{ij}> 0$ for a page $i$ reached by $j$ in $p$ steps.\n",
        "For a web composed of $n$ pages, we would have that each matrix $A^0,A^1, ..., A^{n-1}$ will have the elements > 0 if connected in $( 0 , 1, ..., n-1)$ steps.\n",
        "\n",
        "So having a strongly connected web $→$all pages connect within $n-1$ steps$→$ $I + A + A^2 + · · · + A^{n−1}$ is a positive matrix."
      ],
      "metadata": {
        "id": "EAlUOEIQzqgY"
      }
    },
    {
      "cell_type": "markdown",
      "source": [
        "### $10.5$\n",
        "$→$Use the last part (and Exercise 8) so show that $B = \\frac{1}{n} (I+A+A^2 +···+A^{n−1})$ is **positive** and **column-stochastic** (and hence by Lemma 3.2, $dim(V_1(B)) = 1)$."
      ],
      "metadata": {
        "id": "1CHIRf4o4xls"
      }
    },
    {
      "cell_type": "markdown",
      "source": [
        "We just proved that the matrix $I + A + A^2 + · · · + A^{n−1}$ is positive matrix $→$ $B$ is positive.\n",
        "<br>\n",
        "For the column-stochastic proof we could act like in the Exercise 8 and analyse $B$ as the sum of each $j$ column : <br>\n",
        "<br>\n",
        "$$\\sum_{i}{B} = \\frac{1}{n}(\\sum_{i}{I} + \\sum_{i}{A} +  \\sum_{i}{A^2}+ ... + \\sum_{i}{A^{n-1}})$$<br>\n",
        "\n",
        "Still from Exercise 8 we can say that the product of 2 column-stochastic matrices is a column-stochastic matrix :\n",
        "<br><br>\n",
        "$$I, A, A^2, ... ,  A^{n-1}$$ are column-stochastic $→$ <br><br>\n",
        "\n",
        "$$\\sum_{i}{B} = \\frac{1}{n}(\\underbrace{1 + 1 +  1+ ... + 1})$$\n",
        "$$ \\quad \\quad \\quad \\quad n$$\n",
        "$$= \\frac{1}{n}(n) = 1$$\n"
      ],
      "metadata": {
        "id": "5qUBf5S_KRR5"
      }
    },
    {
      "cell_type": "markdown",
      "source": [
        "### $10.6$"
      ],
      "metadata": {
        "id": "Ssit3DYiOa1p"
      }
    },
    {
      "cell_type": "markdown",
      "source": [
        "$→$Show that if $x ∈ V_1(A)$ then $x ∈ V_1(B)$. Why does this imply that $dim(V_1(A)) = 1$?"
      ],
      "metadata": {
        "id": "EnCbhaKtOYs9"
      }
    },
    {
      "cell_type": "markdown",
      "source": [
        "Knowing that $$Ax=x$$\n",
        "\n",
        "Let's compute the eigenvector of $B$ :\n",
        "\n",
        "\n",
        "$$B\\tilde{x} = \\tilde{x}$$\n",
        "\n",
        "\n",
        "but B is equal to\n",
        "$$\\frac{1}{n}\\sum^{n-1}_{i=0}A^i\\tilde{x}=\\tilde{x}$$\n",
        "<br>\n",
        "where the term $A^i$ can be written as ($A . . . AA$) for some $i$, and for this reason we have that if $\\tilde{x}=x$,\n",
        "\n",
        "<br>\n",
        "$$A . . . AA \\underbrace{Ax} = A . . .\\underbrace{Ax} = . . . = x$$\n",
        "\n",
        "$$x    \\quad \\quad \\quad \\quad        x$$\n",
        "\n",
        "this property we can use in all the power matrix in the summation, obtaining<br>\n",
        "<br>\n",
        "$$Bx = \\frac{1}{n}\\sum^{n-1}_{i=0}A^ix = \\frac{1}{n}\\sum^{n-1}_{i=0}x = \\frac{n}{n}x = x$$<br>\n",
        "\n",
        "We found that if $x$ is the eigenvector of $A$ corresponding to the eigenvalue 1, it is for $B$. Being $B$ positive and column stochastic the $dim(V_1(B)) = 1$ by Lemma 3.2. <br>\n",
        "If $q$ was another eigenvector of $A$ should be of $B$ too, but this is a contraddiction and so the $dim(V_1(A)) = 1$."
      ],
      "metadata": {
        "id": "cDKhqSDKOmom"
      }
    },
    {
      "cell_type": "markdown",
      "source": [
        "## $EXERCISE$ $11$\n",
        "-----\n",
        "Consider again the web in Figure 2.1, with the addition of a page $5$ that links to page $3$, where page $3$ also links to page $5$. Calculate the new ranking by finding the eigenvector of $M$ (corresponding to $λ = 1$) that has positive components summing to one. Use $m$ = 0.15."
      ],
      "metadata": {
        "id": "QEtPzEiObjFH"
      }
    },
    {
      "cell_type": "code",
      "source": [
        "A = np.array([\n",
        "    [0,      0,  1/2,  1/2,  0],\n",
        "    [1/3,    0,    0,    0,  0],\n",
        "    [1/3,  1/2,    0,  1/2,  1],\n",
        "    [1/3,  1/2,    0,    0,  0],\n",
        "    [0,      0,  1/2,    0,  0]\n",
        "])"
      ],
      "metadata": {
        "id": "JWOi7oxRe950"
      },
      "execution_count": null,
      "outputs": []
    },
    {
      "cell_type": "code",
      "source": [
        "n = 5\n",
        "m = 0.15\n",
        "S = np.ones((n,n))/n"
      ],
      "metadata": {
        "id": "8kCKxGgPgRrx"
      },
      "execution_count": null,
      "outputs": []
    },
    {
      "cell_type": "code",
      "source": [
        "M = (1-m) * A + m * S"
      ],
      "metadata": {
        "id": "rtE4-h36gPjn"
      },
      "execution_count": null,
      "outputs": []
    },
    {
      "cell_type": "code",
      "source": [
        "eigenvalues, eigenvectors = np.linalg.eig(M)\n",
        "eigenvector_for_1 = eigenvectors[:, np.isclose(eigenvalues, 1)]\n",
        "pagerank_vector = np.real(eigenvector_for_1 / np.sum(np.real(eigenvector_for_1))).flatten()\n",
        "prv(pagerank_vector)"
      ],
      "metadata": {
        "colab": {
          "base_uri": "https://localhost:8080/"
        },
        "id": "CruQZwrggV2u",
        "outputId": "95bd9ae6-7447-49e5-b9c9-eb62357f1534"
      },
      "execution_count": null,
      "outputs": [
        {
          "output_type": "stream",
          "name": "stdout",
          "text": [
            "Page3 = 0.3488940909993593\n",
            "Page1 = 0.23714058008945219\n",
            "Page5 = 0.17827998867472777\n",
            "Page4 = 0.13849550921111625\n",
            "Page2 = 0.09718983102534466\n"
          ]
        }
      ]
    },
    {
      "cell_type": "markdown",
      "source": [
        "## $EXERCISE$ $12$\n",
        "-----\n",
        "Add a sixth page that links to every page of the web in the previous exercise, but to which no other page links. <br>\n",
        "Rank the pages using $A$, then using $M$ with $m$ = 0.15, and compare the results."
      ],
      "metadata": {
        "id": "Y6_4PfWchHnF"
      }
    },
    {
      "cell_type": "code",
      "source": [
        "A = np.array([[0  ,0  ,1/2,1/2,0  ,1/5],\n",
        "            [1/3,0  ,0  ,0  ,0  ,1/5],\n",
        "            [1/3,1/2,0  ,1/2,1  ,1/5],\n",
        "            [1/3,1/2,0  ,0  ,0  ,1/5],\n",
        "            [0  ,0  ,1/2,0  ,0  ,1/5],\n",
        "            [0  ,0  ,0  ,0  ,0  ,0  ]])"
      ],
      "metadata": {
        "id": "fhnV3RpJheLu"
      },
      "execution_count": null,
      "outputs": []
    },
    {
      "cell_type": "code",
      "source": [
        "n = 6\n",
        "m = 0.15\n",
        "S = np.ones((n,n))/n\n",
        "M = (1-m) * A + m * S"
      ],
      "metadata": {
        "id": "g0Mfy7TmiWZJ"
      },
      "execution_count": null,
      "outputs": []
    },
    {
      "cell_type": "code",
      "source": [
        "eigenvalues, eigenvectors = np.linalg.eig(A)\n",
        "eigenvector_for_1 = eigenvectors[:, np.isclose(eigenvalues, 1)]\n",
        "pagerank_vector_A = np.real(eigenvector_for_1 / np.sum(np.real(eigenvector_for_1))).flatten()\n",
        "\n",
        "eigenvalues, eigenvectors = np.linalg.eig(M)\n",
        "eigenvector_for_1 = eigenvectors[:, np.isclose(eigenvalues, 1)]\n",
        "pagerank_vector_M = np.real(eigenvector_for_1 / np.sum(np.real(eigenvector_for_1))).flatten()\n",
        "\n",
        "print('PageRank for A:')\n",
        "prv(pagerank_vector_A)\n",
        "print('********************')\n",
        "print('PageRank for M:')\n",
        "prv(pagerank_vector_M)"
      ],
      "metadata": {
        "colab": {
          "base_uri": "https://localhost:8080/"
        },
        "id": "cBMCAPLUisiV",
        "outputId": "996c4490-ff61-4cf7-9865-b5a7e6ecd0d8"
      },
      "execution_count": null,
      "outputs": [
        {
          "output_type": "stream",
          "name": "stdout",
          "text": [
            "PageRank for A:\n",
            "Page3 = 0.3673469387755102\n",
            "Page1 = 0.24489795918367338\n",
            "Page5 = 0.18367346938775522\n",
            "Page4 = 0.12244897959183661\n",
            "Page2 = 0.08163265306122457\n",
            "Page6 = 0.0\n",
            "********************\n",
            "PageRank for M:\n",
            "Page3 = 0.34017173872437517\n",
            "Page1 = 0.23121206558721571\n",
            "Page5 = 0.17382298895785955\n",
            "Page4 = 0.13503312148083846\n",
            "Page2 = 0.09476008524971118\n",
            "Page6 = 0.025\n"
          ]
        }
      ]
    },
    {
      "cell_type": "markdown",
      "source": [
        "In the rank $A$ and $M$, without considering the new page of this exercise, have the same classification in that of the exercise before. From the first rank we can see that the new page having no vote its score is 0, instead in the rank of $M$ it take the lowest score but is ranked."
      ],
      "metadata": {
        "id": "WwEKMNxKjSw8"
      }
    },
    {
      "cell_type": "markdown",
      "source": [
        "## $EXERCISE$ $13$\n",
        "-----\n"
      ],
      "metadata": {
        "id": "FhYsih6MkS7m"
      }
    },
    {
      "cell_type": "markdown",
      "source": [
        "Construct a web consisting of two or more subwebs and determine the ranking given by formula (3.1)."
      ],
      "metadata": {
        "id": "C2BNaf__rloA"
      }
    },
    {
      "cell_type": "code",
      "source": [
        "subweb1 = np.array([ # Two pages linking to each other\n",
        "    [0, 1],\n",
        "    [1, 0]\n",
        "    ])\n",
        "\n",
        "subweb2 = np.array([ # Circular linking in 3 pages\n",
        "    [0, 1, 0],\n",
        "    [0, 0, 1],\n",
        "    [1, 0, 0]])\n",
        "\n",
        "subweb3 = np.array([ # Circular linking in 4 pages\n",
        "    [0, 1, 0, 0],\n",
        "    [0, 0, 1, 0],\n",
        "    [0, 0, 0, 1],\n",
        "    [1, 0, 0, 0]])\n",
        "\n",
        "web_matrix = block_diag(subweb1, subweb2, subweb3)"
      ],
      "metadata": {
        "id": "KqRlaYiprmKm"
      },
      "execution_count": null,
      "outputs": []
    },
    {
      "cell_type": "code",
      "source": [
        "web_matrix"
      ],
      "metadata": {
        "colab": {
          "base_uri": "https://localhost:8080/"
        },
        "id": "29Bc9ot-tbJx",
        "outputId": "dafc1575-48ab-4da0-d788-0b8f8df8ff91"
      },
      "execution_count": null,
      "outputs": [
        {
          "output_type": "execute_result",
          "data": {
            "text/plain": [
              "array([[0, 1, 0, 0, 0, 0, 0, 0, 0],\n",
              "       [1, 0, 0, 0, 0, 0, 0, 0, 0],\n",
              "       [0, 0, 0, 1, 0, 0, 0, 0, 0],\n",
              "       [0, 0, 0, 0, 1, 0, 0, 0, 0],\n",
              "       [0, 0, 1, 0, 0, 0, 0, 0, 0],\n",
              "       [0, 0, 0, 0, 0, 0, 1, 0, 0],\n",
              "       [0, 0, 0, 0, 0, 0, 0, 1, 0],\n",
              "       [0, 0, 0, 0, 0, 0, 0, 0, 1],\n",
              "       [0, 0, 0, 0, 0, 1, 0, 0, 0]])"
            ]
          },
          "metadata": {},
          "execution_count": 46
        }
      ]
    },
    {
      "cell_type": "code",
      "source": [
        "n = web_matrix.shape[0]\n",
        "m = 0.15\n",
        "S = np.ones((n,n))/n\n",
        "M =(1-m) * web_matrix + m * S"
      ],
      "metadata": {
        "id": "gE3KUZFws9Jh"
      },
      "execution_count": null,
      "outputs": []
    },
    {
      "cell_type": "code",
      "source": [
        "eigenvalues, eigenvectors = np.linalg.eig(M)\n",
        "eigenvector_for_1 = eigenvectors[:, np.isclose(eigenvalues, 1)]\n",
        "pagerank_vector = np.real(eigenvector_for_1 / np.sum(np.real(eigenvector_for_1))).flatten()\n",
        "prv(pagerank_vector)"
      ],
      "metadata": {
        "colab": {
          "base_uri": "https://localhost:8080/"
        },
        "id": "15pIJ8hYtjlG",
        "outputId": "249e74c8-0193-47ae-9171-703e6d31ada8"
      },
      "execution_count": null,
      "outputs": [
        {
          "output_type": "stream",
          "name": "stdout",
          "text": [
            "Page2 = 0.1111111111111115\n",
            "Page1 = 0.11111111111111144\n",
            "Page9 = 0.11111111111111106\n",
            "Page3 = 0.11111111111111101\n",
            "Page4 = 0.11111111111111101\n",
            "Page5 = 0.11111111111111101\n",
            "Page6 = 0.11111111111111101\n",
            "Page7 = 0.11111111111111101\n",
            "Page8 = 0.11111111111111101\n"
          ]
        }
      ]
    },
    {
      "cell_type": "markdown",
      "source": [
        "In the $EXERCISE 2$ we have seen how ranking directly with $A$ we obtained 3 eigenvectors. Thanks to the new matrix $M$ we have a unique eigenvector, that allow us to ranked the web."
      ],
      "metadata": {
        "id": "XGfxEik1t_tW"
      }
    },
    {
      "cell_type": "markdown",
      "source": [
        "## $EXERCISE$ $14$\n",
        "------------"
      ],
      "metadata": {
        "id": "zc3AKic4xzUZ"
      }
    },
    {
      "cell_type": "markdown",
      "source": [
        "For the web in Exercise 11, compute the values of $||M^kx_0-q||_1$ and $\\frac{||M^kx_0-q||_1}{||M^{k-1}x_0-q||_1}$ for $k$ = 1,5,10,50, using an initial guess $x_0$ not too close to the actual eigenvector $q$ (in order to see the convergence).\n",
        "<br>\n",
        "Determince $c = max_{1\\leq j \\leq n}|1-2min_{1\\leq i \\leq n}M_{ij}|$ and the absolute value of the second largest eigenvalue of $M$."
      ],
      "metadata": {
        "id": "6k-EzXKDx3Kw"
      }
    },
    {
      "cell_type": "code",
      "source": [
        "A = np.array([\n",
        "    [0,      0,  1/2,  1/2,  0],\n",
        "    [1/3,    0,    0,    0,  0],\n",
        "    [1/3,  1/2,    0,  1/2,  1],\n",
        "    [1/3,  1/2,    0,    0,  0],\n",
        "    [0,      0,  1/2,    0,  0]\n",
        "])\n",
        "\n",
        "n = 5\n",
        "m = 0.15\n",
        "S = np.ones((n,n))/n\n",
        "\n",
        "M = (1-m) * A + m * S\n",
        "\n",
        "eigenvalues, eigenvectors = np.linalg.eig(M)\n",
        "eigenvector_1 = eigenvectors[:, np.isclose(eigenvalues, 1)]\n",
        "\n",
        "q = np.real(eigenvector_1 / sum(eigenvector_1))"
      ],
      "metadata": {
        "id": "pd8VU9qD1nr4"
      },
      "execution_count": null,
      "outputs": []
    },
    {
      "cell_type": "code",
      "source": [
        "x_0 = np.array([\n",
        "    [1],\n",
        "    [0],\n",
        "    [0],\n",
        "    [0],\n",
        "    [0]\n",
        "])"
      ],
      "metadata": {
        "id": "1mDHPaDX5M6z"
      },
      "execution_count": null,
      "outputs": []
    },
    {
      "cell_type": "code",
      "source": [
        "error_array = np.array([])\n",
        "error_ratio_array = np.array([])\n",
        "\n",
        "# Step 1: Initialize a random vector\n",
        "x_k = x_0\n",
        "\n",
        "for k in range(50):\n",
        "    # Step 2: Compute y = Ab_k\n",
        "    y = M @ x_k\n",
        "\n",
        "    # Step 3: Normalize the vector\n",
        "    x_k1 = y / np.linalg.norm(y,1)\n",
        "\n",
        "    # Step 4: Compute errors\n",
        "    error = np.linalg.norm(x_k1 - q, 1)\n",
        "    error_array = np.append(error_array, error)\n",
        "\n",
        "    error_ratio = error / np.linalg.norm(x_k - q, 1)\n",
        "    error_ratio_array = np.append(error_ratio_array, error_ratio)\n",
        "\n",
        "    if np.linalg.norm(x_k1 - q) < 1e-16:\n",
        "            break\n",
        "\n",
        "    x_k = x_k1"
      ],
      "metadata": {
        "id": "UMqK1kGO0-4x"
      },
      "execution_count": null,
      "outputs": []
    },
    {
      "cell_type": "code",
      "source": [
        "print(f'x_k: {x_k}')\n",
        "print(f'q:   {q}')"
      ],
      "metadata": {
        "colab": {
          "base_uri": "https://localhost:8080/"
        },
        "id": "Zt6nwJV5ObuV",
        "outputId": "72d41fe6-5943-44c4-f146-de996ec99e3e"
      },
      "execution_count": null,
      "outputs": [
        {
          "output_type": "stream",
          "name": "stdout",
          "text": [
            "x_k: [[0.23714058]\n",
            " [0.09718983]\n",
            " [0.34889409]\n",
            " [0.13849551]\n",
            " [0.17827999]]\n",
            "q:   [[0.23714058]\n",
            " [0.09718983]\n",
            " [0.34889409]\n",
            " [0.13849551]\n",
            " [0.17827999]]\n"
          ]
        }
      ]
    },
    {
      "cell_type": "markdown",
      "source": [
        "As we can see the last $x_k$ vector is really similar to $q$. This means that the Power Method worked correctly."
      ],
      "metadata": {
        "id": "u0v57l3zR8Yv"
      }
    },
    {
      "cell_type": "code",
      "source": [
        "ks = [1,5,10,50]\n",
        "for k in ks:\n",
        "  print(f'STEP {k}:')\n",
        "  print('***************')\n",
        "  print(f'Error : {error_array[k-1]}')\n",
        "  print(f'Error_Ratio : {error_ratio_array[k-1]}')"
      ],
      "metadata": {
        "colab": {
          "base_uri": "https://localhost:8080/"
        },
        "id": "RR1UyBH9RUTq",
        "outputId": "9588b0a8-c743-41a0-8b15-b8b25985ee37"
      },
      "execution_count": null,
      "outputs": [
        {
          "output_type": "stream",
          "name": "stdout",
          "text": [
            "STEP 1:\n",
            "***************\n",
            "Error : 0.7819626528604117\n",
            "Error_Ratio : 0.5125208081930114\n",
            "STEP 5:\n",
            "***************\n",
            "Error : 0.006871410715895657\n",
            "Error_Ratio : 0.3227085473885674\n",
            "STEP 10:\n",
            "***************\n",
            "Error : 0.0003043716553394332\n",
            "Error_Ratio : 0.5245287479654518\n",
            "STEP 50:\n",
            "***************\n",
            "Error : 7.435024818036595e-13\n",
            "Error_Ratio : 0.6108824300749136\n"
          ]
        }
      ]
    },
    {
      "cell_type": "markdown",
      "source": [
        "We can see from this table how the error decreases as $k$ increases. And the error ratio converges to the second eigenvalue of $M$ : <br> <br>\n",
        "\n",
        "$$λ \\approx 0.611$$\n",
        "\n",
        "\n",
        "In order to find constant $c$ we use the formula <br>\n",
        "\n",
        "$$c = max_{1\\leq j \\leq n}|1-2min_{1\\leq i \\leq n}M_{ij}|$$"
      ],
      "metadata": {
        "id": "igbqcfxrTLfN"
      }
    },
    {
      "cell_type": "code",
      "source": [
        "c = np.max(1-2*np.min(M,1))\n",
        "print(c)"
      ],
      "metadata": {
        "colab": {
          "base_uri": "https://localhost:8080/"
        },
        "id": "J4K1CJQYVA6O",
        "outputId": "bf4e37db-a6aa-427b-d526-c891032d29b0"
      },
      "execution_count": null,
      "outputs": [
        {
          "output_type": "stream",
          "name": "stdout",
          "text": [
            "0.94\n"
          ]
        }
      ]
    },
    {
      "cell_type": "markdown",
      "source": [
        "## $EXERCISE$ $15$\n",
        "------------\n"
      ],
      "metadata": {
        "id": "gpOxjStzWNXO"
      }
    },
    {
      "cell_type": "markdown",
      "source": [
        "## $EXERCISE$ $16$\n",
        "------------\n"
      ],
      "metadata": {
        "id": "gvuJnzlqkcvd"
      }
    },
    {
      "cell_type": "markdown",
      "source": [
        "Consider the link matrix $$A = \\begin{bmatrix}\n",
        "0 &  1/2 &  1/2 \\\\\n",
        "0 &  0 &  1/2   \\\\\n",
        "1 &  1/2 & 0\\\\\n",
        "\\end{bmatrix}$$\n",
        "\n",
        "\n",
        "<br>\n",
        "\n",
        "Show that $M=(1−m)A+mS $  (all $S_{ij} =1/3$) is not diagonalizable for $0≤m<1$.\n",
        "\n",
        "**A matrix is diagonalizable if and only if the algebraic multiplicity equals the geometric multiplicity of each eigenvalues $λ_i$.**\n",
        "\n",
        "- Algebraic Multiplicity $α$ = number of times that each eigenvalue $λ_i$ occurs in the Jordan normal form $J(A)$\n",
        "- Geometric Multiplicity $β$ =  is the dimension of the corresponding eigenspace $dim(V_{λ}(A))$. In other words, it represents the number of linearly independent eigenvectors associated with a specific eigenvalue.\n",
        "\n",
        "Now we'll prove that $M$ is not diagonqalizable by contradiction $⇒ α \\neq β$"
      ],
      "metadata": {
        "id": "c9qtsI5Xfb1W"
      }
    },
    {
      "cell_type": "markdown",
      "source": [
        "Let's start by defining $M$ <br>\n",
        "$$M = (1−m)A+mS$$ <br>\n",
        "\n",
        "$$= \\begin{bmatrix}\n",
        "0 &  \\frac{1-m}{2} &  \\frac{1-m}{2} \\\\\n",
        "0 &  0 &  \\frac{1-m}{2}  \\\\\n",
        "1-m &  \\frac{1-m}{2}& 0\\\\\n",
        "\\end{bmatrix} + \\begin{bmatrix}\n",
        "\\frac{m}{3} & \\frac{m}{3} &  \\frac{m}{3} \\\\\n",
        "\\frac{m}{3}&  \\frac{m}{3} &  \\frac{m}{3}   \\\\\n",
        "\\frac{m}{3}&  \\frac{m}{3}& \\frac{m}{3}\\\\\n",
        "\\end{bmatrix}$$ <br>\n",
        "\n",
        "$$= \\begin{bmatrix}\n",
        "\\frac{m}{3} & \\frac{3-m}{6} &  \\frac{3-m}{6} \\\\\n",
        "\\frac{m}{3}&  \\frac{m}{3} &  \\frac{3-m}{6}   \\\\\n",
        "\\frac{3-2m}{3}&  \\frac{3-m}{6}& \\frac{m}{3}\\\\\n",
        "\\end{bmatrix}$$\n",
        "\n",
        "<br>\n",
        "\n",
        "From this result we have that the eigenvalues and the correspondent eigenvectors are : <br>\n",
        "\n",
        "\n",
        "\n",
        "$$ \\begin{array}{c} \\lambda _1=1\\text{, }V_{\\lambda _1}\\text{=Vect}\\left( \\begin{array}{l} \\left( \\begin{array}{c} -\\frac{3-m}{2 (m-2)} \\\\ -\\frac{1}{m-2} \\\\ 1 \\end{array} \\right) \\end{array} \\right) \\\\ \\lambda _2=\\frac{m-1}{2}\\text{, }V_{\\lambda _2}\\text{=Vect}\\left( \\begin{array}{l} \\left( \\begin{array}{c} 0 \\\\ -1 \\\\ 1 \\end{array} \\right) \\end{array} \\right) \\end{array} $$\n",
        "\n",
        "and also : $$J(M) = \\begin{bmatrix}\n",
        "1 & 0 &  0 \\\\\n",
        "0&  \\frac{m-1}{2} &  1  \\\\\n",
        "0&  0& \\frac{m-1}{2}\\\\\n",
        "\\end{bmatrix}$$\n",
        "\n"
      ],
      "metadata": {
        "id": "vEvB9DDGm2JL"
      }
    },
    {
      "cell_type": "markdown",
      "source": [
        "$α_1 = 1, α_2 = 2$ <br>\n",
        "$β_1 = dim(V_{\\lambda_1}(M)) = 1, β_2 = dim(V_{\\lambda_2}(M)) = 1$\n"
      ],
      "metadata": {
        "id": "jFmxq_SrrOhk"
      }
    },
    {
      "cell_type": "markdown",
      "source": [
        "We then check whether $$α_i = β_i \\quad \\quad ∀   λ_i$$\n",
        "\n",
        "for $\\lambda_1 = 1 \\quad  ⇒ \\quad \\quad α_1 = 1 = β_1$ <br>\n",
        "for $\\lambda_2 = \\frac{m-1}{2} ⇒ \\quad \\quad α_2 = 2 \\neq β_2 = 1$ <br>\n",
        "\n",
        "When the geometric multiplicity of a repeated eigenvalue is strictly less than its algebraic multiplicity, then that eigenvalue is said to be defective $⇒ λ_2$ is a defective eigenvalue.\n",
        "\n",
        "$⇒$ $M$ is not diagonalizable.\n",
        "\n",
        "Note that these conclusions are true for any value of $0≤m<1$ !"
      ],
      "metadata": {
        "id": "23mwm4LQmzzZ"
      }
    },
    {
      "cell_type": "markdown",
      "source": [
        "## $EXERCISE$ $17$\n",
        "------------\n"
      ],
      "metadata": {
        "id": "EQYEuOA1xiRR"
      }
    },
    {
      "cell_type": "markdown",
      "source": [
        "How should the value of $m$ be chosen? How does this choice affect the rankings\n",
        "and the computation time?"
      ],
      "metadata": {
        "id": "k-8xBaCExzjQ"
      }
    },
    {
      "cell_type": "markdown",
      "source": [
        "### $17.1$ _Computational reasons_"
      ],
      "metadata": {
        "id": "dzzC4yvUx2DZ"
      }
    },
    {
      "cell_type": "markdown",
      "source": [
        "Traditionally, computing the PageRank vector has been viewed as an eigenvector problem,<br>\n",
        "\n",
        "$$Mx=x$$\n",
        "\n",
        "and Power Method has been the\n",
        "method of choice. Brin and Page, the founders of Google, use $m = 0.15$ <br>\n",
        "Thus, a rough estimate of the **number of iterations** needed to converge to a tolerance level $τ$ , measured by the residual:\n",
        "$$x_kM-x_k = x_{k+1} - x_{k}$$ <br>\n",
        "is\n",
        "$$\\frac{log_{10}τ}{log_{10}(1-m)}$$ <br>\n",
        "And we have these results :\n",
        "\n",
        "\n",
        "\n",
        "$$τ = 10^{-6}, m = 0.15 \\quad ⟶ \\quad \\frac{-6}{log_{10}(.85)} \\approx 85 $$ <br>\n",
        "\n",
        "Where this number is the number of iterations until there is a convergence to the PageRank vector. We have for $τ = 10^{-8}$, about $114$ iterations and for $τ = 10^{-10}$, about $142$ iterations.\n",
        "<br> <br>\n",
        "This means that Google can dictate the rate of convergence according to how big $m$ is chosen to be! <br>Consequently, Google engineers are forced to perform a delicate balancing act. The bigger $m$ is, the faster the convergence, but the bigger $m$  is, the less the true hyperlink structure of the web is used to determine web page importance (17.2). And slightly different values for $m$ can produce very different PageRanks. <br>\n",
        "Moreover, as $m → 0$, not only does convergence slow drastically, but sensitivity issues begin to surface as well. <br> <br>\n",
        "There are good reasons for using $m = 0.15$, one being the speedy convergence of the power method. With this value for $m$, we can expect the power method to converge to the PageRank vector in about 114 iterations for a convergence tolerance level of $τ = 10^{−8}$. Obviously, this choice of α brings faster convergence than lower values of $m$. Compare with $m = 0.01$, whereby roughly $1833$ iterations are required to achieve a residual less than $10^{−8}$.<br>\n",
        "\n",
        "When working with a sparse 4.3 billion by 4.3 billion matrix, each iteration counts; over a few hundred power iterations is more than Google is willing to compute.  \n"
      ],
      "metadata": {
        "id": "jLxEc8FBqiHL"
      }
    },
    {
      "cell_type": "markdown",
      "source": [
        "### $17.2$ _Web surfing behavior_"
      ],
      "metadata": {
        "id": "XOzc0htY-ZT3"
      }
    },
    {
      "cell_type": "markdown",
      "source": [
        "However, in addition to the computational reasons for choosing $m = 0.15$, this choice for $m$ also carries some intuitive weight: $m = 0.15$ implies that roughly $\\frac{5}{6}$ of the time a web surfer randomly clicks on hyperlinks (i.e., following the structure of the web, as captured by the $(1-m)A$ part), while $\\frac{1}{6}$ of the time this web surfer will go to the URL line and type the address of a new page to “teleport” to (as captured by the $mS$ part of the formula). Perhaps **this was the original motivation** behind Brin and Page’s choice of $m = 0.15$; it produces an accurate model for web surfing behavior.<br>\n",
        "Alternatively, $m = 0.01$ not only slows convergence of the power method, but also places much greater emphasis on the hyperlink structure of the web and much less on the teleportation tendencies of surfers."
      ],
      "metadata": {
        "id": "1frmk48H-u_4"
      }
    },
    {
      "cell_type": "markdown",
      "source": [
        "References :\n",
        "1. https://www.statlect.com/matrix-algebra/algebraic-and-geometric-multiplicity-of-eigenvalues\n",
        "2. https://math.stackexchange.com/questions/132552/showing-a-matrix-is-not-diagonalizable\n",
        "3. https://www.stat.uchicago.edu/~lekheng/meetings/mathofranking/ref/langville.pdf"
      ],
      "metadata": {
        "id": "-YEN0I4Hrkqg"
      }
    }
  ]
}